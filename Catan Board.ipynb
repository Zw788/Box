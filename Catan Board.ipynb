{
 "cells": [
  {
   "cell_type": "code",
   "execution_count": 2,
   "metadata": {
    "collapsed": true
   },
   "outputs": [],
   "source": [
    "import numpy as np\n",
    "from numpy import random as rand"
   ]
  },
  {
   "cell_type": "code",
   "execution_count": 4,
   "metadata": {},
   "outputs": [
    {
     "data": {
      "text/plain": [
       "[1, 2, 3, 4, 5, 6]"
      ]
     },
     "execution_count": 4,
     "metadata": {},
     "output_type": "execute_result"
    }
   ],
   "source": [
    "idx=np.arange(18)\n",
    "rand.shuffle(idx)\n",
    "\n",
    "distrb=np.array([11,11,12,12,12]) \n",
    "A=None\n",
    "a=[1,2,3,4,5,6,7,8,9,10]\n",
    "a[0:6]"
   ]
  },
  {
   "cell_type": "code",
   "execution_count": 10,
   "metadata": {
    "collapsed": true
   },
   "outputs": [],
   "source": [
    "\n",
    "def Num2Res(mode=None):\n",
    "    \n",
    "    Num_Values=np.hstack([5*np.ones(4,dtype=int),4*np.ones(4,dtype=int),3*np.ones(4,dtype=int),2*np.ones(4,dtype=int),np.ones(2,dtype=int)])    \n",
    "    Num_Tokens=np.array([6,6,8,8,5,5,9,9,4,4,10,10,3,3,11,11,2,12],dtype=int)\n",
    "    \n",
    "    if mode==1:\n",
    "        distrb=np.array([11,11,12,12,12]) \n",
    "    elif mode==2:  \n",
    "        distrb=np.array([11,11,11,11,14]) \n",
    "    else:\n",
    "        distrb=np.array([10,12,12,12,12]) \n",
    "    rand.shuffle(distrb)\n",
    "    \n",
    "    Nam=['Brick','Ore','Lumber','Grain','Sheep']\n",
    "    idx=np.arange(18)\n",
    "    \n",
    "    d=None\n",
    "    while d != distrb[3]:\n",
    "        c=None\n",
    "        while c != distrb[2]:\n",
    "            b=None\n",
    "            while b != distrb[1]:\n",
    "                a=None\n",
    "                while a != distrb[0]:\n",
    "                    rand.shuffle(idx)\n",
    "                    Num_Values=Num_Values[idx]\n",
    "                    Num_Tokens=Num_Tokens[idx]\n",
    "                    a=int(sum(Num_Values[:3]))\n",
    "                b=int(sum(Num_Values[3:6]))\n",
    "            c=int(sum(Num_Values[6:10]))\n",
    "        d=int(sum(Num_Values[10:14]))\n",
    "    \n",
    "    Res=list(np.zeros(19))\n",
    "    for i in np.arange(18):\n",
    "        if i <=2:\n",
    "            Res[i]=np.array([Nam[0],Num_Tokens[i]])\n",
    "        elif 2 < i and i <= 5:\n",
    "            Res[i]=np.array([Nam[1],Num_Tokens[i]])\n",
    "        elif 5 < i and i <= 9:\n",
    "            Res[i]=np.array([Nam[2],Num_Tokens[i]])\n",
    "        elif 9 < i and i <= 13:\n",
    "            Res[i]=np.array([Nam[3],Num_Tokens[i]])\n",
    "        else:\n",
    "            Res[i]=np.array([Nam[4],Num_Tokens[i]])\n",
    "    Res[-1]=np.array(['Desert',0])\n",
    "    Num_Values=np.append(Num_Values,0)\n",
    "    return(Res,Num_Values)\n",
    "        "
   ]
  },
  {
   "cell_type": "code",
   "execution_count": 27,
   "metadata": {
    "collapsed": true
   },
   "outputs": [],
   "source": [
    "def pickn(box=None,idx=None,result=None): #list, array, list\n",
    "    n=0\n",
    "    change=box\n",
    "    for k in idx:\n",
    "        result.append(k)\n",
    "        \n",
    "    for i in np.sort(idx):\n",
    "        change=np.append(change[:i-n],change[i+1-n:])\n",
    "        n=n+1\n",
    "        \n",
    "    return(box,list(change),result) #list, list, list\n",
    "\n",
    "def pick1(box=None,idx=None,result=None): #list, array, list\n",
    "    change=box\n",
    "    result.append(idx)\n",
    "    change=np.append(change[:idx],change[idx+1:])\n",
    "        \n",
    "    return(box,list(change),result) #list, list, list\n",
    "\n",
    "def checkall(check=None,require=None):\n",
    "    urn=np.arange(len(check))\n",
    "    for i in urn:\n",
    "        if check[i] in require:\n",
    "            urn[i]=1\n",
    "        else:\n",
    "            urn[i]=0\n",
    "    return(all(urn))\n",
    "\n",
    "def disk_sum(number=None,radius=None): #radius >= 1    \n",
    "    if (len(number)-1) % 6:\n",
    "        return(\"Not a complete ring\")\n",
    "    else:        \n",
    "        sumset=np.ones(6*(radius**2), dtype=int)\n",
    "        for i in np.arange(6):\n",
    "            re=np.arange(1,7)                \n",
    "            sumset[i]=int(number[0]+number[i+1]+number[re[np.mod(i+1,6)]])\n",
    "                \n",
    "        for x in np.arange(2,radius+1):\n",
    "            n=6*(x)**2-6*(x-1)**2\n",
    "            for k in np.arange(6):\n",
    "                \n",
    "                idd=k*(x+1)+6*(x-1)**2\n",
    "                even=(x**3)-((x-1)**3) + k*x\n",
    "                odd= ((x-1)**3)-((x-2)**3) + k*(x-1)\n",
    "                \n",
    "                hexseq=np.ones(int(n/6)+2,dtype=int)\n",
    "                for m in np.arange(int(n/6)+2):\n",
    "                    if not m % 2:\n",
    "                        hexseq[m]=int(even+m/2)\n",
    "                    else:\n",
    "                        hexseq[m]=int(odd+m//2)\n",
    "                if k==5:\n",
    "                    hexseq[-1]=hexseq[-2]\n",
    "                    hexseq[-2]=int(((x-1)**3)-((x-2)**3))\n",
    "                for l in np.arange(len(hexseq[:-2])):\n",
    "                    sumset[int(idd+l)]=int(number[hexseq[l]]+number[hexseq[l+1]]+number[hexseq[l+2]])    \n",
    "    return(sumset)\n",
    "                \n",
    "                \n",
    "\n",
    "\n",
    "def setupboard(hexes=None):\n",
    "    Token=list(hexes[1])\n",
    "    \n",
    "    sumrange=[9,10,11]\n",
    "    for a in np.arange(len(Token)): #looping over all hex as starting hex\n",
    "        order=[]\n",
    "        bin_=pick1(available,a,order)[1]\n",
    "        order=pick1(available1,a,order)[2]\n",
    "        ids=np.arange(len(bin_))\n",
    "        rand.shuffle(ids)\n",
    "        first_ring=np.append(order,bin_[ids[:6]])\n",
    "        \n",
    "        break\n",
    "    return(order)\n",
    "            \n",
    "\n",
    "\n",
    "        \n",
    "        "
   ]
  },
  {
   "cell_type": "code",
   "execution_count": 28,
   "metadata": {},
   "outputs": [
    {
     "name": "stdout",
     "output_type": "stream",
     "text": [
      "[5 2 3 3 3 2 2 5 4 1 4 5 5 2 4 1 4 0 3] [ 8  6  3 17 13  9 10  0 11 16 15  5  2  1 14 12  4 18  7] [10 11 11 10  9  9]\n"
     ]
    }
   ],
   "source": [
    "C=[1]\n",
    "B=np.arange(19)\n",
    "test=Num2Res(3)\n",
    "number=test[1]\n",
    "while not checkall(C,[9,10,11]):\n",
    "    rand.shuffle(B)\n",
    "    #while list(number[B]).index(0)  < 6:\n",
    "        #rand.shuffle(B)\n",
    "    C=disk_sum(number[B],1)\n",
    "\n",
    "x=2\n",
    "n=6*(x)**2-6*(x-1)**2\n",
    "\n",
    "print(number[B],B,C)"
   ]
  },
  {
   "cell_type": "code",
   "execution_count": 29,
   "metadata": {},
   "outputs": [
    {
     "data": {
      "text/plain": [
       "array([10, 11, 11, 10,  9,  9, 11,  9,  8,  8, 10, 12, 13, 11, 10,  9,  9,\n",
       "        7,  7,  8,  6,  5,  7, 10])"
      ]
     },
     "execution_count": 29,
     "metadata": {},
     "output_type": "execute_result"
    }
   ],
   "source": [
    "disk_sum(number[B],2)"
   ]
  },
  {
   "cell_type": "code",
   "execution_count": 30,
   "metadata": {
    "collapsed": true
   },
   "outputs": [],
   "source": [
    "i=0\n",
    "sumset=[0]\n",
    "lhalf=B[7:]\n",
    "while not checkall(sumset,[8,9,10,11]):\n",
    "    rand.shuffle(lhalf)\n",
    "    B[7:]=lhalf\n",
    "    A=number[B]\n",
    "    sumset=[]\n",
    "    for k in np.arange(6):\n",
    "        hexseq=np.ones(int(n/6)+2,dtype=int)\n",
    "        for m in np.arange(int(n/6)+2):\n",
    "            if not m % 2:\n",
    "                hexseq[m]=int((x**3)-((x-1)**3)+m/2+k*x)\n",
    "            else:\n",
    "                hexseq[m]=int(((x-1)**3)-((x-2)**3)+m//2+k*(x-1))\n",
    "        if k==5:\n",
    "            hexseq[-1]=hexseq[-2]\n",
    "            hexseq[-2]=int(((x-1)**3)-((x-2)**3))\n",
    "        for l in np.arange(len(hexseq[:-2])):\n",
    "            sumset=np.append(sumset,int(A[hexseq[l]]+A[hexseq[l+1]]+A[hexseq[l+2]]))\n",
    "    i=i+1\n",
    "\n"
   ]
  },
  {
   "cell_type": "code",
   "execution_count": 32,
   "metadata": {
    "scrolled": true
   },
   "outputs": [
    {
     "name": "stdout",
     "output_type": "stream",
     "text": [
      "[5 2 3 3 3 2 2 2 5 0 5 1 4 1 4 5 4 3 4] [  9.  10.   8.   8.  11.   9.   8.  10.   8.   8.   9.  11.  11.   8.   9.\n",
      "   9.   8.   8.]\n"
     ]
    }
   ],
   "source": [
    "print(number[B],sumset)"
   ]
  },
  {
   "cell_type": "code",
   "execution_count": 31,
   "metadata": {},
   "outputs": [
    {
     "name": "stdout",
     "output_type": "stream",
     "text": [
      "[10 11 11 10  9  9  9 10  8  8 11  9  8 10  8  8  9 11 11  8  9  9  8  8] 5671\n"
     ]
    }
   ],
   "source": [
    "print(disk_sum(number[B],2),i)\n"
   ]
  },
  {
   "cell_type": "code",
   "execution_count": 112,
   "metadata": {},
   "outputs": [
    {
     "data": {
      "text/plain": [
       "array([ 1,  2,  3,  4, 12, 15, 18])"
      ]
     },
     "execution_count": 112,
     "metadata": {},
     "output_type": "execute_result"
    }
   ],
   "source": [
    "A=[1,2,3,4,5]\n",
    "B=[1,2,3,4]\n",
    "C=[2,3,4,5,6,7]\n",
    "for l in np.arange(len(A[:-2])):\n",
    "    B=np.append(B,int(C[A[l]]+C[A[l+1]]+C[A[l+2]]))\n",
    "\n",
    "B"
   ]
  },
  {
   "cell_type": "code",
   "execution_count": 134,
   "metadata": {},
   "outputs": [
    {
     "data": {
      "text/plain": [
       "array([ 11.,  13.,  11.,   8.,   7.,   6.,   8.,  10.,  12.,  14.,  14.,\n",
       "        10.,   8.,  12.,  10.,   7.,  10.,   7.])"
      ]
     },
     "execution_count": 134,
     "metadata": {},
     "output_type": "execute_result"
    }
   ],
   "source": [
    "n=18\n",
    "x=2\n",
    "sumset=[]\n",
    "number=test[1]\n",
    "for k in np.arange(6):\n",
    "        hexseq=np.zeros(int(n/6)+2,dtype=int)\n",
    "        for m in np.arange(int(n/6)+2):\n",
    "            if not m % 2:\n",
    "                hexseq[m]=int((x**3)-((x-1)**3)+m/2+k*x)\n",
    "            else:\n",
    "                hexseq[m]=int(((x-1)**3)-((x-2)**3)+m//2+k*(x-1))\n",
    "        if k==5:\n",
    "            hexseq[-1]=hexseq[-2]\n",
    "            hexseq[-2]=int(((x-1)**3)-((x-2)**3))\n",
    "        for l in np.arange(len(hexseq[:-2])):\n",
    "            sumset=np.append(sumset,int(number[hexseq[l]]+number[hexseq[l+1]]+number[hexseq[l+2]]))\n",
    "sumset.astype(int)\n"
   ]
  },
  {
   "cell_type": "code",
   "execution_count": 181,
   "metadata": {},
   "outputs": [
    {
     "data": {
      "text/plain": [
       "6"
      ]
     },
     "execution_count": 181,
     "metadata": {},
     "output_type": "execute_result"
    }
   ],
   "source": [
    "np.ones(int(n/6)+2, dtype=int)\n",
    "ids=rand.randint(0,17)\n",
    "ids"
   ]
  },
  {
   "cell_type": "code",
   "execution_count": 268,
   "metadata": {},
   "outputs": [
    {
     "name": "stdout",
     "output_type": "stream",
     "text": [
      "[[0, 1, -1], [-1, 1, 0], [-1, 0, 1], [0, -1, 1], [1, -1, 0], [1, 0, -1], [[0, 0, 0], [1, 2, 3]]]\n"
     ]
    }
   ],
   "source": [
    "a=[[0,1,-1],[-1,1,0],[-1,0,1],[0,-1,1],[1,-1,0],[1,0,-1]]\n",
    "a.append([[0,0,0],[1,2,3]])\n",
    "print(a)"
   ]
  },
  {
   "cell_type": "code",
   "execution_count": 9,
   "metadata": {},
   "outputs": [
    {
     "data": {
      "text/plain": [
       "array([13,  7,  2, 15,  5,  6, 10,  4, 11, 14, 17,  8,  0, 16,  9,  3,  1,\n",
       "       12])"
      ]
     },
     "execution_count": 9,
     "metadata": {},
     "output_type": "execute_result"
    }
   ],
   "source": [
    "ids=np.arange(18)\n",
    "rand.shuffle(ids)\n",
    "ids"
   ]
  },
  {
   "cell_type": "code",
   "execution_count": 273,
   "metadata": {
    "collapsed": true
   },
   "outputs": [],
   "source": [
    "def spiral(center=None,radius=None):\n",
    "    cubedirect=np.vstack([np.array([1,-1,0]),np.array([1,0,-1]),np.array([0,1,-1]),np.array([-1,1,0]),np.array([-1,0,1]),np.array([0,-1,1])])       \n",
    "\n",
    "    result=[np.array(center)]\n",
    "    \n",
    "    for k in np.arange(1,radius+1):\n",
    "        cube=np.array(center)+cubedirect[-2]*k\n",
    "        result.append(cube)\n",
    "        for i in np.arange(6):\n",
    "            for j in np.arange(k):\n",
    "                cube = cube + cubedirect[i]\n",
    "                result.append(cube)\n",
    "        result=result[:-1]\n",
    "\n",
    "    return result\n"
   ]
  }
 ],
 "metadata": {
  "kernelspec": {
   "display_name": "Python 3",
   "language": "python",
   "name": "python3"
  },
  "language_info": {
   "codemirror_mode": {
    "name": "ipython",
    "version": 3
   },
   "file_extension": ".py",
   "mimetype": "text/x-python",
   "name": "python",
   "nbconvert_exporter": "python",
   "pygments_lexer": "ipython3",
   "version": "3.6.1"
  }
 },
 "nbformat": 4,
 "nbformat_minor": 2
}
