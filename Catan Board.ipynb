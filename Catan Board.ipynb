{
 "cells": [
  {
   "cell_type": "code",
   "execution_count": 368,
   "metadata": {
    "collapsed": true
   },
   "outputs": [],
   "source": [
    "import numpy as np\n",
    "from numpy import random as rand"
   ]
  },
  {
   "cell_type": "code",
   "execution_count": 15,
   "metadata": {},
   "outputs": [
    {
     "name": "stdout",
     "output_type": "stream",
     "text": [
      "[[ 6  6  8  8  5  5  9  9  4  4 10 10  3  3 11 11  2 12]\n",
      " [ 5  5  5  5  4  4  4  4  3  3  3  3  2  2  2  2  1  1]]\n"
     ]
    }
   ],
   "source": [
    "Num_Tokens=np.hstack([5*np.ones(4,dtype=int),4*np.ones(4,dtype=int),3*np.ones(4,dtype=int),2*np.ones(4,dtype=int),np.ones(2,dtype=int)])    \n",
    "Num_Tokens=np.vstack([np.array([6,6,8,8,5,5,9,9,4,4,10,10,3,3,11,11,2,12]),Num_Tokens])\n",
    "\n",
    "print(Num_Tokens)\n"
   ]
  },
  {
   "cell_type": "code",
   "execution_count": 108,
   "metadata": {},
   "outputs": [
    {
     "data": {
      "text/plain": [
       "[1, 2, 3, 4, 5, 6]"
      ]
     },
     "execution_count": 108,
     "metadata": {},
     "output_type": "execute_result"
    }
   ],
   "source": [
    "idx=np.arange(18)\n",
    "rand.shuffle(idx)\n",
    "\n",
    "distrb=np.array([11,11,12,12,12]) \n",
    "A=None\n",
    "a=[1,2,3,4,5,6,7,8,9,10]\n",
    "a[0:6]"
   ]
  },
  {
   "cell_type": "code",
   "execution_count": 394,
   "metadata": {},
   "outputs": [],
   "source": [
    "\n",
    "def Num2Res(mode=None):\n",
    "    \n",
    "    Num_Values=np.hstack([5*np.ones(4,dtype=int),4*np.ones(4,dtype=int),3*np.ones(4,dtype=int),2*np.ones(4,dtype=int),np.ones(2,dtype=int)])    \n",
    "    Num_Tokens=np.array([6,6,8,8,5,5,9,9,4,4,10,10,3,3,11,11,2,12],dtype=int)\n",
    "    \n",
    "    distrb=0\n",
    "    if mode==1:\n",
    "        distrb=np.array([11,11,12,12,12]) \n",
    "    elif mode==2:  \n",
    "        distrb=np.array([11,11,11,11,14]) \n",
    "    else:\n",
    "        distrb=np.array([10,12,12,12,12]) \n",
    "    rand.shuffle(distrb)\n",
    "    \n",
    "    Nam=['Brick','Ore','Lumber','Grain','Sheep']\n",
    "    idx=np.arange(18)\n",
    "    \n",
    "    d=None\n",
    "    while d != distrb[3]:\n",
    "        c=None\n",
    "        while c != distrb[2]:\n",
    "            b=None\n",
    "            while b != distrb[1]:\n",
    "                a=None\n",
    "                while a != distrb[0]:\n",
    "                    rand.shuffle(idx)\n",
    "                    Num_Values=Num_Values[idx]\n",
    "                    Num_Tokens=Num_Tokens[idx]\n",
    "                    a=int(sum(Num_Values[:3]))\n",
    "                b=int(sum(Num_Values[3:6]))\n",
    "            c=int(sum(Num_Values[6:10]))\n",
    "        d=int(sum(Num_Values[10:14]))\n",
    "    \n",
    "    Res=[np.array([Nam[0],Num_Tokens[0]])]\n",
    "    for i in np.arange(1,18):\n",
    "        if i <=2:\n",
    "            Res.append(np.array([Nam[0],Num_Tokens[i]]))\n",
    "        elif 2 < i and i <= 5:\n",
    "            Res.append(np.array([Nam[1],Num_Tokens[i]]))\n",
    "        elif 5 < i and i <= 9:\n",
    "            Res.append(np.array([Nam[2],Num_Tokens[i]]))\n",
    "        elif 9 < i and i <= 13:\n",
    "            Res.append(np.array([Nam[3],Num_Tokens[i]]))\n",
    "        else:\n",
    "            Res.append(np.array([Nam[4],Num_Tokens[i]]))\n",
    "    Res.append(np.array(['Desert',0]))\n",
    "    Num_Values=np.append(Num_Values,0)\n",
    "    return(Res,Num_Values)\n",
    "        "
   ]
  },
  {
   "cell_type": "code",
   "execution_count": 458,
   "metadata": {},
   "outputs": [],
   "source": [
    "def pickn(box=None,idx=None,result=None): #list, array, list\n",
    "    n=0\n",
    "    change=box\n",
    "    for k in idx:\n",
    "        result.append(k)\n",
    "        \n",
    "    for i in np.sort(idx):\n",
    "        change=np.append(change[:i-n],change[i+1-n:])\n",
    "        n=n+1\n",
    "        \n",
    "    return(box,list(change),result) #list, list, list\n",
    "\n",
    "def pick1(box=None,idx=None,result=None): #list, array, list\n",
    "    change=box\n",
    "    result.append(idx)\n",
    "    change=np.append(change[:i],change[i+1:])\n",
    "        \n",
    "    return(box,list(change),result) #list, list, list\n",
    "\n",
    "def setupboard(hexes=None):\n",
    "    Token=list(hexes[1])\n",
    "    \n",
    "    sumrange=[9,10,11]\n",
    "    for a in np.arange(len(Token)): #looping over all hex as starting hex\n",
    "        order=[]\n",
    "        available1=pick1(available,a,order)[1]\n",
    "        order=pick1(available1,a,order)[2]\n",
    "        seeds=rand.randint(0,len(available1)-1)\n",
    "        if order[0]+available1[seeds] >= 5:\n",
    "            available1=pick1(available,seeds,order)[1]\n",
    "            order=pick1(available1,seeds,order)[2]\n",
    "            for i in np.arange(5):\n",
    "                seeds=rand.randint(0,len(available1)-1)\n",
    "                while available[order[0]] + available[order[1+i]] not in sumrange:\n",
    "                    seeds=rand.randint(0,len(available1)-1)\n",
    "                available1=pick1(available1,seeds,order)[1]\n",
    "                order=pick1(available1,seeds,order)[2]\n",
    "        break\n",
    "    return(order)\n",
    "            \n",
    "\n",
    "\n",
    "        \n",
    "        "
   ]
  },
  {
   "cell_type": "code",
   "execution_count": 456,
   "metadata": {},
   "outputs": [
    {
     "name": "stdout",
     "output_type": "stream",
     "text": [
      "([array(['Brick', '9'],\n",
      "      dtype='<U5'), array(['Brick', '10'],\n",
      "      dtype='<U5'), array(['Brick', '5'],\n",
      "      dtype='<U5'), array(['Ore', '9'],\n",
      "      dtype='<U3'), array(['Ore', '6'],\n",
      "      dtype='<U3'), array(['Ore', '11'],\n",
      "      dtype='<U3'), array(['Lumber', '8'],\n",
      "      dtype='<U6'), array(['Lumber', '3'],\n",
      "      dtype='<U6'), array(['Lumber', '4'],\n",
      "      dtype='<U6'), array(['Lumber', '5'],\n",
      "      dtype='<U6'), array(['Grain', '2'],\n",
      "      dtype='<U5'), array(['Grain', '3'],\n",
      "      dtype='<U5'), array(['Grain', '4'],\n",
      "      dtype='<U5'), array(['Grain', '6'],\n",
      "      dtype='<U5'), array(['Sheep', '8'],\n",
      "      dtype='<U5'), array(['Sheep', '12'],\n",
      "      dtype='<U5'), array(['Sheep', '10'],\n",
      "      dtype='<U5'), array(['Sheep', '11'],\n",
      "      dtype='<U5'), array(['Desert', '0'],\n",
      "      dtype='<U6')], array([4, 3, 4, 4, 5, 2, 5, 2, 3, 4, 1, 2, 3, 5, 5, 1, 3, 2, 0]))\n"
     ]
    }
   ],
   "source": [
    "test=Num2Res(2)\n",
    "print(test)"
   ]
  },
  {
   "cell_type": "code",
   "execution_count": 268,
   "metadata": {},
   "outputs": [
    {
     "name": "stdout",
     "output_type": "stream",
     "text": [
      "[[0, 1, -1], [-1, 1, 0], [-1, 0, 1], [0, -1, 1], [1, -1, 0], [1, 0, -1], [[0, 0, 0], [1, 2, 3]]]\n"
     ]
    }
   ],
   "source": [
    "a=[[0,1,-1],[-1,1,0],[-1,0,1],[0,-1,1],[1,-1,0],[1,0,-1]]\n",
    "a.append([[0,0,0],[1,2,3]])\n",
    "print(a)"
   ]
  },
  {
   "cell_type": "code",
   "execution_count": 459,
   "metadata": {},
   "outputs": [
    {
     "data": {
      "text/plain": [
       "(array([2, 3, 5, 6, 7, 8, 8, 9, 5, 1, 1, 2]),\n",
       " [2, 3, 5, 6, 7, 8, 8, 9, 5, 1, 1, 2],\n",
       " [2])"
      ]
     },
     "execution_count": 459,
     "metadata": {},
     "output_type": "execute_result"
    }
   ],
   "source": [
    "a=np.array([2,3,5,6,7,8,8,9,5,1,1,2])\n",
    "pick1(a,2,[])"
   ]
  },
  {
   "cell_type": "code",
   "execution_count": 449,
   "metadata": {},
   "outputs": [
    {
     "data": {
      "text/plain": [
       "False"
      ]
     },
     "execution_count": 449,
     "metadata": {},
     "output_type": "execute_result"
    }
   ],
   "source": [
    "2*3 not in [1,2,3,4,5,6]"
   ]
  },
  {
   "cell_type": "code",
   "execution_count": 273,
   "metadata": {},
   "outputs": [],
   "source": [
    "def spiral(center=None,radius=None):\n",
    "    cubedirect=np.vstack([np.array([1,-1,0]),np.array([1,0,-1]),np.array([0,1,-1]),np.array([-1,1,0]),np.array([-1,0,1]),np.array([0,-1,1])])       \n",
    "\n",
    "    result=[np.array(center)]\n",
    "    \n",
    "    for k in np.arange(1,radius+1):\n",
    "        cube=np.array(center)+cubedirect[-2]*k\n",
    "        result.append(cube)\n",
    "        for i in np.arange(6):\n",
    "            for j in np.arange(k):\n",
    "                cube = cube + cubedirect[i]\n",
    "                result.append(cube)\n",
    "        result=result[:-1]\n",
    "\n",
    "    return result\n"
   ]
  }
 ],
 "metadata": {
  "kernelspec": {
   "display_name": "Python 3",
   "language": "python",
   "name": "python3"
  },
  "language_info": {
   "codemirror_mode": {
    "name": "ipython",
    "version": 3
   },
   "file_extension": ".py",
   "mimetype": "text/x-python",
   "name": "python",
   "nbconvert_exporter": "python",
   "pygments_lexer": "ipython3",
   "version": "3.6.2"
  }
 },
 "nbformat": 4,
 "nbformat_minor": 2
}
